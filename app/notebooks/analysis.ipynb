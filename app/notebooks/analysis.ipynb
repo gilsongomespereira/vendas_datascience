
# Importação das bibliotecas necessárias
import pandas as pd
import matplotlib.pyplot as plt
import seaborn as sns

# Configurar gráficos
%matplotlib inline
sns.set(style="whitegrid")

# Carregamento dos dados
data = pd.read_csv('data/retail_data.csv')

# Visualização inicial dos dados
data.head()

# Informações gerais sobre o DataFrame
data.info()

# Estatísticas descritivas
data.describe()

# Verificando se há valores nulos
data.isnull().sum()

# Limpeza de dados (removendo valores nulos)
data = data.dropna()

# Convertendo a coluna 'date' para o tipo datetime
data['date'] = pd.to_datetime(data['date'])

# Adicionando colunas para ano e mês
data['year'] = data['date'].dt.year
data['month'] = data['date'].dt.month

# Análise de vendas por produto
sales_by_product = data.groupby('product')['sales'].sum().reset_index()
sales_by_product

# Visualização de vendas por produto
plt.figure(figsize=(10, 6))
sns.barplot(x='product', y='sales', data=sales_by_product)
plt.title('Vendas por Produto')
plt.xlabel('Produto')
plt.ylabel('Vendas')
plt.show()

# Análise de vendas ao longo do tempo
sales_over_time = data.groupby('date')['sales'].sum().reset_index()
sales_over_time

# Visualização de vendas ao longo do tempo
plt.figure(figsize=(14, 8))
sns.lineplot(x='date', y='sales', data=sales_over_time)
plt.title('Vendas ao Longo do Tempo')
plt.xlabel('Data')
plt.ylabel('Vendas')
plt.show()

# Análise de vendas por ano
sales_by_year = data.groupby('year')['sales'].sum().reset_index()
sales_by_year

# Visualização de vendas por ano
plt.figure(figsize=(10, 6))
sns.barplot(x='year', y='sales', data=sales_by_year)
plt.title('Vendas por Ano')
plt.xlabel('Ano')
plt.ylabel('Vendas')
plt.show()

# Análise de vendas por mês
sales_by_month = data.groupby('month')['sales'].sum().reset_index()
sales_by_month

# Visualização de vendas por mês
plt.figure(figsize=(10, 6))
sns.barplot(x='month', y='sales', data=sales_by_month)
plt.title('Vendas por Mês')
plt.xlabel('Mês')
plt.ylabel('Vendas')
plt.show()
